{
 "cells": [
  {
   "cell_type": "markdown",
   "metadata": {},
   "source": [
    "# Learn X in Y Minutes\n",
    "## Where X=Pandas\n",
    "\n",
    "_Inspired by the popular [learnxinyminutes](https://learnxinyminutes.com/)._\n",
    "\n",
    "Pandas is the shorthand for 'Python and Data Analysis'. It provides a rich set of features for exploring and manipulating data, making it the go-to toolkit for a lot of data scientists. \n",
    "\n",
    "Since Pandas is a Python library, you might want to check out [Python](https://learnxinyminutes.com/docs/python/) first.\n",
    "\n",
    "---"
   ]
  },
  {
   "cell_type": "markdown",
   "metadata": {
    "collapsed": true
   },
   "source": [
    "# Basics\n",
    "Let's get the hang of Pandas!"
   ]
  },
  {
   "cell_type": "code",
   "execution_count": null,
   "metadata": {
    "collapsed": true
   },
   "outputs": [],
   "source": []
  },
  {
   "cell_type": "markdown",
   "metadata": {
    "collapsed": true
   },
   "source": [
    "# In Action\n",
    "Let's use an actual dataset and do some basic descriptive analysis, while applying new Pandas skills."
   ]
  },
  {
   "cell_type": "code",
   "execution_count": null,
   "metadata": {
    "collapsed": true
   },
   "outputs": [],
   "source": []
  },
  {
   "cell_type": "markdown",
   "metadata": {},
   "source": [
    "# Useful Links\n",
    "- [Official Pandas Documentation](http://pandas.pydata.org/pandas-docs/stable/)   \n",
    "- [Pandas Cheatsheet (PDF)](https://github.com/pandas-dev/pandas/blob/master/doc/cheatsheet/Pandas_Cheat_Sheet.pdf)   \n",
    "- [Python for Data Analysis (Book)](https://www.amazon.com/Python-Data-Analysis-Wrangling-IPython/dp/1491957662/ref=pd_sim_14_2?_encoding=UTF8&psc=1&refRID=TJ9Q3J20VHGT3KFN273Q)   \n",
    "- [Dataschool.io Series on Pandas (Videos)](http://www.dataschool.io/easier-data-analysis-with-pandas/)   \n",
    "- [Intro to Data Analysis (MOOC)](https://www.udacity.com/course/intro-to-data-analysis--ud170)   "
   ]
  },
  {
   "cell_type": "code",
   "execution_count": null,
   "metadata": {
    "collapsed": true
   },
   "outputs": [],
   "source": []
  }
 ],
 "metadata": {
  "kernelspec": {
   "display_name": "Python 2",
   "language": "python",
   "name": "python2"
  },
  "language_info": {
   "codemirror_mode": {
    "name": "ipython",
    "version": 2
   },
   "file_extension": ".py",
   "mimetype": "text/x-python",
   "name": "python",
   "nbconvert_exporter": "python",
   "pygments_lexer": "ipython2",
   "version": "2.7.11"
  }
 },
 "nbformat": 4,
 "nbformat_minor": 0
}
